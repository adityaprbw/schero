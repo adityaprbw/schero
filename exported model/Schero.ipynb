{
 "nbformat": 4,
 "nbformat_minor": 0,
 "metadata": {
  "colab": {
   "provenance": []
  },
  "kernelspec": {
   "name": "python3",
   "language": "python",
   "display_name": "Python 3 (ipykernel)"
  },
  "language_info": {
   "name": "python"
  }
 },
 "cells": [
  {
   "cell_type": "code",
   "source": [
    "!pip install fuzzywuzzy"
   ],
   "metadata": {
    "colab": {
     "base_uri": "https://localhost:8080/"
    },
    "id": "MVsJamzmuky1",
    "outputId": "18d7faf0-3197-4698-d40b-58d78233cc79",
    "ExecuteTime": {
     "end_time": "2023-12-21T22:14:27.969828400Z",
     "start_time": "2023-12-21T22:14:24.749359800Z"
    }
   },
   "execution_count": 4,
   "outputs": [
    {
     "name": "stdout",
     "output_type": "stream",
     "text": [
      "Requirement already satisfied: fuzzywuzzy in c:\\users\\adity\\appdata\\local\\programs\\python\\python312\\lib\\site-packages (0.18.0)\n"
     ]
    }
   ]
  },
  {
   "cell_type": "code",
   "source": [
    "pip install joblib"
   ],
   "metadata": {
    "colab": {
     "base_uri": "https://localhost:8080/"
    },
    "id": "qMT78jLSaWgE",
    "outputId": "84cfe5b8-1f8d-4287-f1d8-ae80292160f9",
    "ExecuteTime": {
     "end_time": "2023-12-21T22:19:17.973283700Z",
     "start_time": "2023-12-21T22:19:15.332108600Z"
    }
   },
   "execution_count": 2,
   "outputs": [
    {
     "name": "stdout",
     "output_type": "stream",
     "text": [
      "Requirement already satisfied: joblib in c:\\users\\adity\\appdata\\local\\programs\\python\\python312\\lib\\site-packages (1.3.2)\n",
      "Note: you may need to restart the kernel to use updated packages.\n"
     ]
    }
   ]
  },
  {
   "cell_type": "markdown",
   "source": [
    "**Importing** **Library**"
   ],
   "metadata": {
    "id": "0azJOGEgw4WX"
   }
  },
  {
   "cell_type": "code",
   "source": [
    "import pandas as pd\n",
    "import numpy as np\n",
    "import tensorflow as tf\n",
    "\n",
    "\n",
    "from fuzzywuzzy import fuzz\n",
    "from nltk.corpus import stopwords\n",
    "from nltk.tokenize import word_tokenize\n",
    "from pathlib import Path\n",
    "from google.colab import files\n",
    "\n",
    "from tensorflow.keras.models import Sequential\n",
    "from tensorflow.keras.layers import Dense\n",
    "from google.colab import drive\n",
    "import nltk\n",
    "import joblib\n",
    "nltk.download('stopwords')\n",
    "nltk.download('punkt')\n",
    "\n",
    "from sklearn.model_selection import train_test_split\n",
    "from sklearn.feature_extraction.text import TfidfVectorizer\n",
    "from sklearn.metrics.pairwise import cosine_similarity\n",
    "from sklearn.feature_extraction.text import ENGLISH_STOP_WORDS\n",
    "\n",
    "from tensorflow.keras.models import load_model\n",
    "import joblib"
   ],
   "metadata": {
    "colab": {
     "base_uri": "https://localhost:8080/"
    },
    "id": "GrkrngEGuqTm",
    "outputId": "0f39fe8f-cb31-4f55-9ec0-12500bac84fe",
    "ExecuteTime": {
     "end_time": "2023-12-21T22:16:08.593104400Z",
     "start_time": "2023-12-21T22:16:07.124665800Z"
    }
   },
   "execution_count": 2,
   "outputs": [
    {
     "ename": "ModuleNotFoundError",
     "evalue": "No module named 'tensorflow'",
     "output_type": "error",
     "traceback": [
      "\u001B[1;31m---------------------------------------------------------------------------\u001B[0m",
      "\u001B[1;31mModuleNotFoundError\u001B[0m                       Traceback (most recent call last)",
      "Cell \u001B[1;32mIn[2], line 3\u001B[0m\n\u001B[0;32m      1\u001B[0m \u001B[38;5;28;01mimport\u001B[39;00m \u001B[38;5;21;01mpandas\u001B[39;00m \u001B[38;5;28;01mas\u001B[39;00m \u001B[38;5;21;01mpd\u001B[39;00m\n\u001B[0;32m      2\u001B[0m \u001B[38;5;28;01mimport\u001B[39;00m \u001B[38;5;21;01mnumpy\u001B[39;00m \u001B[38;5;28;01mas\u001B[39;00m \u001B[38;5;21;01mnp\u001B[39;00m\n\u001B[1;32m----> 3\u001B[0m \u001B[38;5;28;01mimport\u001B[39;00m \u001B[38;5;21;01mtensorflow\u001B[39;00m \u001B[38;5;28;01mas\u001B[39;00m \u001B[38;5;21;01mtf\u001B[39;00m\n\u001B[0;32m      6\u001B[0m \u001B[38;5;28;01mfrom\u001B[39;00m \u001B[38;5;21;01mfuzzywuzzy\u001B[39;00m \u001B[38;5;28;01mimport\u001B[39;00m fuzz\n\u001B[0;32m      7\u001B[0m \u001B[38;5;28;01mfrom\u001B[39;00m \u001B[38;5;21;01mnltk\u001B[39;00m\u001B[38;5;21;01m.\u001B[39;00m\u001B[38;5;21;01mcorpus\u001B[39;00m \u001B[38;5;28;01mimport\u001B[39;00m stopwords\n",
      "\u001B[1;31mModuleNotFoundError\u001B[0m: No module named 'tensorflow'"
     ]
    }
   ]
  },
  {
   "cell_type": "markdown",
   "source": [
    "**Dataset**"
   ],
   "metadata": {
    "id": "YefmAZ1dwst1"
   }
  },
  {
   "cell_type": "code",
   "source": [
    "# Load dataset\n",
    "\n",
    "file_path = 'beasiswa.csv'\n",
    "beasiswa = pd.read_csv(file_path)"
   ],
   "metadata": {
    "id": "yFnHEgY0vw36",
    "ExecuteTime": {
     "start_time": "2023-12-21T22:14:30.681817600Z"
    }
   },
   "execution_count": null,
   "outputs": []
  },
  {
   "cell_type": "code",
   "source": [
    "beasiswa.head()"
   ],
   "metadata": {
    "colab": {
     "base_uri": "https://localhost:8080/",
     "height": 328
    },
    "id": "GEZp5gJHw7B9",
    "outputId": "fa504d3e-ef86-4d74-dbb5-e43b3c7f57a4",
    "ExecuteTime": {
     "start_time": "2023-12-21T22:14:30.686287100Z"
    }
   },
   "execution_count": null,
   "outputs": []
  },
  {
   "cell_type": "code",
   "source": [
    "beasiswa.info()"
   ],
   "metadata": {
    "colab": {
     "base_uri": "https://localhost:8080/"
    },
    "id": "5rWr8FWz2TkB",
    "outputId": "611a0908-2da5-472a-db4e-37bf1de4a79c",
    "ExecuteTime": {
     "start_time": "2023-12-21T22:14:30.691969200Z"
    }
   },
   "execution_count": null,
   "outputs": []
  },
  {
   "cell_type": "code",
   "source": [
    "file_path = 'beasiswa.csv'\n",
    "\n",
    "try:\n",
    "    # Membaca file CSV menjadi DataFrame\n",
    "    beasiswa = pd.read_csv(file_path)\n",
    "\n",
    "    # Memisahkan fitur (X) dan target (y)\n",
    "    X = beasiswa[['Jenjang', 'Jenis Pendanaan', 'Benua']]\n",
    "    y = beasiswa['Nama Beasiswa']\n",
    "\n",
    "    # Menentukan proporsi data untuk set pengujian (misalnya, 20%)\n",
    "    test_size = 0.2\n",
    "    total_data = len(beasiswa)\n",
    "    split_index = int(total_data * (1 - test_size))\n",
    "\n",
    "    # Membagi data menjadi set pelatihan dan pengujian\n",
    "    X_train, X_test = X[:split_index], X[split_index:]\n",
    "    y_train, y_test = y[:split_index], y[split_index:]\n",
    "\n",
    "    # Contoh print untuk memeriksa ukuran set pelatihan dan pengujian\n",
    "    print(\"Jumlah data dalam set pelatihan (X_train):\", len(X_train))\n",
    "    print(\"Jumlah data dalam set pengujian (X_test):\", len(X_test))\n",
    "\n",
    "except FileNotFoundError:\n",
    "    print(f\"File '{file_path}' not found. Please check the file path.\")\n",
    "except Exception as e:\n",
    "    print(f\"An error occurred: {e}\")"
   ],
   "metadata": {
    "colab": {
     "base_uri": "https://localhost:8080/"
    },
    "id": "koPOtJuKxKnw",
    "outputId": "c9e4cbb8-29d7-4a20-9a1e-60fad5ef47ab",
    "ExecuteTime": {
     "start_time": "2023-12-21T22:14:30.697504300Z"
    }
   },
   "execution_count": null,
   "outputs": []
  },
  {
   "cell_type": "code",
   "source": [
    "# Fungsi preprocessing yang diperbarui\n",
    "def preprocessing(data):\n",
    "    if isinstance(data, str):\n",
    "        data = data.lower()\n",
    "        # Tambahkan langkah-langkah preprocessing lainnya di sini\n",
    "    return data"
   ],
   "metadata": {
    "id": "cYBR72TP3p9-",
    "ExecuteTime": {
     "start_time": "2023-12-21T22:14:30.701791900Z"
    }
   },
   "execution_count": null,
   "outputs": []
  },
  {
   "cell_type": "markdown",
   "source": [
    "**Preference**"
   ],
   "metadata": {
    "id": "sLmbbsQFZFCh"
   }
  },
  {
   "cell_type": "code",
   "source": [
    "data_beasiswa = beasiswa.copy()\n",
    "\n",
    "for index, row in data_beasiswa.iterrows():\n",
    "    # Kategorisasi Biaya\n",
    "    if row['Jenis Pendanaan'] == 'Fully Funded':\n",
    "        data_beasiswa.at[index, 'Jenis Pendanaan Tags'] = 'Fully Funded'\n",
    "    else:\n",
    "        data_beasiswa.at[index, 'Jenis Pendanaan Tags'] = 'Partially Funded'\n",
    "\n",
    "\n",
    "# Preprocess the data\n",
    "data_beasiswa = data_beasiswa.fillna('')\n",
    "\n",
    "# Penggabungan Tags\n",
    "data_beasiswa['Tags'] = data_beasiswa['Jenis Pendanaan'] + ' ' + data_beasiswa['Jenjang']+ ' ' + data_beasiswa['Benua']\n",
    "\n",
    "# Hapus kolom yang tidak diperlukan\n",
    "data_beasiswa"
   ],
   "metadata": {
    "id": "_VsoqXS__nXK",
    "colab": {
     "base_uri": "https://localhost:8080/",
     "height": 912
    },
    "outputId": "8b584fd1-bef6-44e0-f6ca-04ae39c55c81",
    "ExecuteTime": {
     "start_time": "2023-12-21T22:14:30.706129500Z"
    }
   },
   "execution_count": null,
   "outputs": []
  },
  {
   "cell_type": "code",
   "source": [
    "data_beasiswa.Tags = data_beasiswa.Tags.apply(preprocessing)\n",
    "data_beasiswa"
   ],
   "metadata": {
    "colab": {
     "base_uri": "https://localhost:8080/",
     "height": 912
    },
    "id": "n7zlFHaMa0VT",
    "outputId": "b8931bad-b8a5-4a00-e411-55cf3510b6f7",
    "ExecuteTime": {
     "start_time": "2023-12-21T22:14:30.709682700Z"
    }
   },
   "execution_count": null,
   "outputs": []
  },
  {
   "cell_type": "code",
   "source": [
    "# Initialize TF-IDF vectorizer\n",
    "tfidf_vectorizer = TfidfVectorizer()\n",
    "tfidf_matrix = tfidf_vectorizer.fit_transform(data_beasiswa['Tags'])\n",
    "\n",
    "# Convert the TF-IDF matrix to an array\n",
    "tfidf_array = tfidf_matrix.toarray()\n",
    "\n",
    "def preprocess_query(query):\n",
    "    tokens = word_tokenize(query)\n",
    "    filtered_query = ' '.join([word.lower() for word in tokens if word.lower() not in ENGLISH_STOP_WORDS and word.lower() not in stopwords.words('indonesian')])\n",
    "    return filtered_query\n",
    "\n",
    "# Initialize the recommendation function\n",
    "def recommend_scholarships(query, top_n=5):\n",
    "    processed_query = preprocess_query(query)\n",
    "    query_vector = tfidf_vectorizer.transform([processed_query])\n",
    "\n",
    "    # Calculate cosine similarity between the query and all scholarships\n",
    "    cosine_similarities = cosine_similarity(query_vector, tfidf_matrix).flatten()\n",
    "\n",
    "    # Get indices of top_n most similar scholarships\n",
    "    indices = cosine_similarities.argsort()[:-top_n-1:-1]\n",
    "\n",
    "    # Extract recommended scholarship names based on indices\n",
    "    recommended_scholarships = data_beasiswa.iloc[indices]['Nama Beasiswa'].tolist()\n",
    "    return recommended_scholarships"
   ],
   "metadata": {
    "id": "oJUEuixya0tV",
    "ExecuteTime": {
     "start_time": "2023-12-21T22:14:30.714042200Z"
    }
   },
   "execution_count": null,
   "outputs": []
  },
  {
   "cell_type": "code",
   "source": [
    "# Get user input and display recommendations\n",
    "def get_user_input():\n",
    "    jenis_pendanaan = input(\"Masukkan Jenis Pendanaan: \")\n",
    "    jenjang = input(\"Masukkan Jenjang: \")\n",
    "    benua = input(\"Masukkan Benua: \")\n",
    "    query = f\"{jenis_pendanaan} {jenjang} {benua}\"\n",
    "    recommendations = recommend_scholarships(query)\n",
    "    print(\"Recommended scholarships:\")\n",
    "    for scholarship in recommendations:\n",
    "        print(scholarship)\n",
    "\n",
    "# Call the get_user_input function\n",
    "get_user_input()"
   ],
   "metadata": {
    "colab": {
     "base_uri": "https://localhost:8080/"
    },
    "id": "F97uT7_8Zbuc",
    "outputId": "295df968-6668-47d9-aa6a-eee442cb908a",
    "ExecuteTime": {
     "start_time": "2023-12-21T22:14:30.717302900Z"
    }
   },
   "execution_count": null,
   "outputs": []
  },
  {
   "cell_type": "code",
   "source": [
    "def preprocess_query(query):\n",
    "    stop_words_english = set(stopwords.words('english'))\n",
    "    stop_words_indonesian = set(stopwords.words('indonesian'))\n",
    "\n",
    "    tokens = word_tokenize(query)\n",
    "\n",
    "    filtered_query = ' '.join([word.lower() for word in tokens if word.lower() not in ENGLISH_STOP_WORDS and word.lower() not in stopwords.words('indonesian')])\n",
    "\n",
    "    return filtered_query\n",
    "\n",
    "# Example usage:\n",
    "query = 's1 di Amerika Selatan'\n",
    "preprocessed_query = preprocess_query(query)\n",
    "recommendations = recommend_scholarships(preprocessed_query)\n",
    "\n",
    "print(\"Recommended scholarships:\")\n",
    "for scholarship in recommendations:\n",
    "    print(scholarship)"
   ],
   "metadata": {
    "colab": {
     "base_uri": "https://localhost:8080/"
    },
    "id": "lnk8-AbGLSsY",
    "outputId": "7854e6e0-39ef-4ee0-9c98-25bb3e7b9cb5",
    "ExecuteTime": {
     "start_time": "2023-12-21T22:14:30.719771300Z"
    }
   },
   "execution_count": null,
   "outputs": []
  },
  {
   "cell_type": "markdown",
   "source": [
    "**Searching (Content Based Filtering)**"
   ],
   "metadata": {
    "id": "bGFTKRj9QRwa"
   }
  },
  {
   "cell_type": "code",
   "source": [
    "data_content_based_filtering = beasiswa.copy()\n",
    "\n",
    "data_content_based_filtering['Tags']  = data_content_based_filtering['Jenis Pendanaan']+' ' + data_content_based_filtering['Jenjang'] + ' ' + data_content_based_filtering['Benua']\n",
    "data_content_based_filtering"
   ],
   "metadata": {
    "colab": {
     "base_uri": "https://localhost:8080/",
     "height": 912
    },
    "id": "W5jME-LmLS4e",
    "outputId": "3b808bf5-1118-432f-b3d1-11a2d96ee209",
    "ExecuteTime": {
     "start_time": "2023-12-21T22:14:30.721938800Z"
    }
   },
   "execution_count": null,
   "outputs": []
  },
  {
   "cell_type": "code",
   "source": [
    "data_content_based_filtering.Tags = data_content_based_filtering.Tags.apply(preprocessing)\n",
    "data_content_based_filtering"
   ],
   "metadata": {
    "colab": {
     "base_uri": "https://localhost:8080/",
     "height": 912
    },
    "id": "IFdgySE8QONs",
    "outputId": "94c542a9-3f34-4020-d468-2461075a8ea8",
    "ExecuteTime": {
     "start_time": "2023-12-21T22:14:30.724234400Z"
    }
   },
   "execution_count": null,
   "outputs": []
  },
  {
   "cell_type": "code",
   "source": [
    "def preprocess_query(query):\n",
    "    stop_words_english = set(stopwords.words('english'))\n",
    "    stop_words_indonesian = set(stopwords.words('indonesian'))\n",
    "\n",
    "    tokens = word_tokenize(query)\n",
    "\n",
    "    filtered_query = ' '.join([word.lower() for word in tokens if word.lower() not in ENGLISH_STOP_WORDS and word.lower() not in stopwords.words('indonesian')])\n",
    "\n",
    "    return filtered_query\n",
    "\n",
    "def recommend_by_content_based_filtering(query):\n",
    "    query = preprocess_query(query)\n",
    "    matched_beasiswas = []\n",
    "\n",
    "    for index, beasiswa in data_content_based_filtering.iterrows():\n",
    "        jenjang_similarity = fuzz.token_set_ratio(query, str(beasiswa['Jenjang']).lower())\n",
    "\n",
    "        # Give higher weight to 'Region' term\n",
    "        if isinstance(beasiswa['Benua'], str):\n",
    "            benua_similarity = 1.5 * fuzz.token_set_ratio(query, beasiswa['Benua'].lower())\n",
    "        else:\n",
    "            benua_similarity = 0\n",
    "\n",
    "        if isinstance(beasiswa['Tags'], str):\n",
    "            tags_similarity = fuzz.token_set_ratio(query, beasiswa['Tags'].lower())\n",
    "        else:\n",
    "            tags_similarity = 0\n",
    "\n",
    "        combined_similarity = (jenjang_similarity + benua_similarity + tags_similarity) / 3\n",
    "        matched_beasiswas.append((index, combined_similarity))\n",
    "\n",
    "    matched_beasiswas = sorted(matched_beasiswas, key=lambda x: x[1], reverse=True)\n",
    "    matched_beasiswas = matched_beasiswas[:10]\n",
    "\n",
    "    recommended_nama_beasiswas = []\n",
    "    for match in matched_beasiswas:\n",
    "        beasiswa_index = match[0]\n",
    "        beasiswa_name = data_content_based_filtering.iloc[beasiswa_index]['Nama Beasiswa']\n",
    "        recommended_nama_beasiswas.append(beasiswa_name)\n",
    "\n",
    "    return recommended_nama_beasiswas"
   ],
   "metadata": {
    "id": "po3ajVhSLS68",
    "ExecuteTime": {
     "start_time": "2023-12-21T22:14:30.726478400Z"
    }
   },
   "execution_count": null,
   "outputs": []
  },
  {
   "cell_type": "code",
   "source": [
    "def get_scholarship_details(scholarship_name):\n",
    "    scholarship_details = data_content_based_filtering[data_content_based_filtering['Nama Beasiswa'] == scholarship_name]\n",
    "\n",
    "    print(\"Scholarship Details:\")\n",
    "    print(scholarship_details)"
   ],
   "metadata": {
    "id": "O3EfHkA_3EK2",
    "ExecuteTime": {
     "start_time": "2023-12-21T22:14:30.729196400Z"
    }
   },
   "execution_count": null,
   "outputs": []
  },
  {
   "cell_type": "code",
   "source": [
    "recommendations = recommend_by_content_based_filtering('S3 di Eropa')\n",
    "print(\"Recommended scholarships:\")\n",
    "for scholarship in recommendations:\n",
    "    print(scholarship)\n",
    "    get_scholarship_details(scholarship)"
   ],
   "metadata": {
    "colab": {
     "base_uri": "https://localhost:8080/"
    },
    "id": "u3dG9-tJLS9Z",
    "outputId": "ac88a546-4b7d-4e07-fb04-5401cd2f2a59",
    "ExecuteTime": {
     "start_time": "2023-12-21T22:14:30.731468Z"
    }
   },
   "execution_count": null,
   "outputs": []
  },
  {
   "cell_type": "code",
   "source": [
    "# Menyimpan matriks TF-IDF\n",
    "joblib.dump(tfidf_matrix, 'tfidf_matrix.pkl')\n",
    "\n",
    "# Menyimpan objek TfidfVectorizer (opsional)\n",
    "joblib.dump(tfidf_vectorizer, 'tfidf_vectorizer.pkl')"
   ],
   "metadata": {
    "colab": {
     "base_uri": "https://localhost:8080/"
    },
    "id": "-GdkcOdDCDGC",
    "outputId": "caef8857-e2d6-4999-d069-24288f047aa3",
    "ExecuteTime": {
     "end_time": "2023-12-21T22:14:30.765190900Z",
     "start_time": "2023-12-21T22:14:30.735062100Z"
    }
   },
   "execution_count": null,
   "outputs": []
  },
  {
   "cell_type": "code",
   "source": [
    "!ls"
   ],
   "metadata": {
    "colab": {
     "base_uri": "https://localhost:8080/"
    },
    "id": "zbaobeeJKBG2",
    "outputId": "bcb1c242-2f8b-4036-d6c5-3ec6a563cac5",
    "ExecuteTime": {
     "start_time": "2023-12-21T22:14:30.738185800Z"
    }
   },
   "execution_count": null,
   "outputs": []
  },
  {
   "cell_type": "code",
   "source": [
    "files.download('tfidf_matrix.pkl')"
   ],
   "metadata": {
    "colab": {
     "base_uri": "https://localhost:8080/",
     "height": 17
    },
    "id": "61r79uHAM1D9",
    "outputId": "f5b80ed4-2bc1-49b5-e161-489b2635d1ae",
    "ExecuteTime": {
     "start_time": "2023-12-21T22:14:30.739865100Z"
    }
   },
   "execution_count": null,
   "outputs": []
  }
 ]
}
